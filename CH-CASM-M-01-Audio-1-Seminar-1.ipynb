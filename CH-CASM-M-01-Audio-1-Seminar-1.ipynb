{
 "cells": [
  {
   "cell_type": "markdown",
   "id": "5c49dcbd",
   "metadata": {},
   "source": [
    "# Computational Analysis of Sounds and Music (CH-CASM-M)\n",
    " \n",
    "## 01 - Fundamentals of Audio Processing (1/2) Part 1\n",
    "\n",
    "**WS 2025/2026**\n",
    "\n",
    "Prof. Dr. Jakob Abeßer, jakob.abesser@uni-bamberg.de\n",
    "\n",
    "Last update: 19.10.2025"
   ]
  },
  {
   "cell_type": "markdown",
   "id": "bf76db79",
   "metadata": {},
   "source": [
    "**Outline**\n",
    "\n",
    "In this notebook, you will learn the basic usage of the **numpy** Python library.\n",
    "\n",
    "For futher study, we recommend the **Preparation Course Python (PCP)** at https://www.audiolabs-erlangen.de/resources/MIR/PCP/PCP.html"
   ]
  },
  {
   "cell_type": "code",
   "execution_count": null,
   "id": "c9dfc180",
   "metadata": {},
   "outputs": [],
   "source": [
    "import numpy as np"
   ]
  },
  {
   "cell_type": "markdown",
   "id": "dd56e515",
   "metadata": {},
   "source": [
    "## Numpy Fundamentals"
   ]
  },
  {
   "cell_type": "code",
   "execution_count": null,
   "id": "f7cf6d91",
   "metadata": {},
   "outputs": [],
   "source": [
    "# let's start with a one-dimensional array (vector)\n",
    "a = np.array([1, 2, 3])\n",
    "print(a)"
   ]
  },
  {
   "cell_type": "code",
   "execution_count": null,
   "id": "543b434f",
   "metadata": {},
   "outputs": [],
   "source": [
    "# TASK:\n",
    "# (1) Print the shape and number of dimensions of a.\n",
    "# (2) What is the data type of a?"
   ]
  },
  {
   "cell_type": "code",
   "execution_count": null,
   "id": "cec9244c",
   "metadata": {},
   "outputs": [],
   "source": [
    "# now we look at a two-dimensional array (matrix)\n",
    "a = np.array([[1.1, 2.2], [3.3, 4.4]])\n",
    "print(a)"
   ]
  },
  {
   "cell_type": "code",
   "execution_count": null,
   "id": "c9828564",
   "metadata": {},
   "outputs": [],
   "source": [
    "# TASK:\n",
    "# repeat (1) and (2), what changed?"
   ]
  },
  {
   "cell_type": "code",
   "execution_count": null,
   "id": "161daaee",
   "metadata": {},
   "outputs": [],
   "source": [
    "# create arrays filled with ones/zeros\n",
    "a = np.zeros([2, 3])\n",
    "print(a)\n",
    "a = np.ones(3)\n",
    "print(a)\n",
    "a = np.ones(3, dtype=int)\n",
    "print(a)"
   ]
  },
  {
   "cell_type": "code",
   "execution_count": null,
   "id": "1e629fff",
   "metadata": {},
   "outputs": [],
   "source": [
    "# TASK: \n",
    "# (3) create an array with increasing numbers from 0 to 3\n",
    "# (4) create an array with increasing numbers from 1 to 13\n",
    "# (5) create an array with decreasing numbers from 2 to -2"
   ]
  },
  {
   "cell_type": "code",
   "execution_count": null,
   "id": "b8649dcd",
   "metadata": {},
   "outputs": [],
   "source": [
    "# indexing/slicing works just with strings/list before\n",
    "a = np.arange(4)\n",
    "print(a[0])\n",
    "print(a[:2])\n",
    "print(a[-1])"
   ]
  },
  {
   "cell_type": "code",
   "execution_count": null,
   "id": "ffa4fc7a",
   "metadata": {},
   "outputs": [],
   "source": [
    "# TASK: \n",
    "# (6) concatenate the following two arrays to a new one & print its shape\n",
    "a = np.arange(4)\n",
    "b = np.arange(3)"
   ]
  },
  {
   "cell_type": "code",
   "execution_count": null,
   "id": "53e4a9d4",
   "metadata": {},
   "outputs": [],
   "source": [
    "# horizontal and vertical stacking of (2D) arrays\n",
    "a = np.array((1, 2), dtype=int) \n",
    "b = np.array((3, 4), dtype=int)\n",
    "print(a)\n",
    "print(b)\n",
    "\n",
    "## TASK: implement horizontal concatenation of a and b (replace \"None\" in the line below)\n",
    "hc = None\n",
    "assert np.array_equal(hc, [1, 2, 3, 4])\n",
    "\n",
    "## TASK: implement horizontal concatenation of a and b (replace \"None\" in the line below)\n",
    "vc = None\n",
    "assert np.array_equal(vc, [[1, 2], [3, 4]])"
   ]
  },
  {
   "cell_type": "code",
   "execution_count": null,
   "id": "fa883e43",
   "metadata": {},
   "outputs": [],
   "source": [
    "# random numbers\n",
    "# 1) normal distribution:\n",
    "#    5 numbers mean 0 and standard deviation 1\n",
    "random_numbers = np.random.normal(0, 1, 5)\n",
    "print(random_numbers)\n",
    "\n",
    "# 2) uniform distribution within [0, 1]:\n",
    "random_numbers_uniform = np.random.rand(5)\n",
    "print(random_numbers_uniform)\n",
    "\n",
    "# TASK: create an array with 10 numbers drawn from a normal distribution with a mean of 5 and a standard deviation of 1"
   ]
  },
  {
   "cell_type": "code",
   "execution_count": null,
   "id": "8c500141",
   "metadata": {},
   "outputs": [],
   "source": [
    "# 3) uniform distribution between [v_min, v_max]\n",
    "v_min = 10\n",
    "v_max = 20\n",
    "\n",
    "# !TASK!: generate a 1D numpy array with 5 random numbers from a uniform distribution between v_min and v_max \n",
    "# (replace None below)\n",
    "random_numbers_vmin_vmax = None\n",
    "assert len(random_numbers_vmin_vmax) == 5\n",
    "assert np.all(np.logical_and(random_numbers_vmin_vmax >= v_min,\n",
    "                             random_numbers_vmin_vmax <= v_max))\n",
    "print(random_numbers_vmin_vmax)"
   ]
  },
  {
   "cell_type": "code",
   "execution_count": null,
   "id": "c9ff5fc8",
   "metadata": {},
   "outputs": [],
   "source": [
    "# random 3 x 3 image with normally distributed pixel values\n",
    "\n",
    "# option 1\n",
    "random_image = np.random.normal(0, 1, (3,3))\n",
    "print(random_image)\n",
    "\n",
    "# option 2\n",
    "random_image = np.random.randn(3,3)\n",
    "print(random_image)"
   ]
  },
  {
   "cell_type": "markdown",
   "id": "d646caaf",
   "metadata": {},
   "source": [
    "We will need to stack multiple images (or spectrograms) later to use them for training neural network models. \n",
    "(Note that pixel intensities are typically between 0 and 1)"
   ]
  },
  {
   "cell_type": "code",
   "execution_count": null,
   "id": "f9ce908d",
   "metadata": {},
   "outputs": [],
   "source": [
    "images = []\n",
    "for i in range(10):\n",
    "    images.append(np.random.rand(3,3))\n",
    "\n",
    "print(f\"At this point, we have a list of {len(images)} images of shape {images[0].shape}\")\n",
    "\n",
    "print(images[0])\n",
    "print(images[1])"
   ]
  },
  {
   "cell_type": "markdown",
   "id": "056be8f1",
   "metadata": {},
   "source": [
    "Let's convert to a numpy tensor and check the shape again"
   ]
  },
  {
   "cell_type": "code",
   "execution_count": null,
   "id": "6c5dadd2",
   "metadata": {},
   "outputs": [],
   "source": [
    "images = np.array(images)\n",
    "print(images.shape)"
   ]
  },
  {
   "cell_type": "markdown",
   "id": "f3391da8",
   "metadata": {},
   "source": [
    "We will later call the firs dimension **batch dimension** as it allows to index all images in our collection."
   ]
  },
  {
   "cell_type": "code",
   "execution_count": null,
   "id": "13776a93",
   "metadata": {},
   "outputs": [],
   "source": [
    "# Here's our first image\n",
    "print(images[0, :, :])"
   ]
  },
  {
   "cell_type": "markdown",
   "id": "8ccaaa8e",
   "metadata": {},
   "source": [
    "If we want to train a Convolutional Neural Network (CNN), we need to add another dimension, which is called **channel dimension**. \n",
    "For colored images, this relates to the RGB (red, green, blue) color channels.\n",
    "Here, we assume that we have a monochrome image with just one channel."
   ]
  },
  {
   "cell_type": "code",
   "execution_count": null,
   "id": "83b97f5f",
   "metadata": {},
   "outputs": [],
   "source": [
    "# !TASK!: add a \"singleton\" dimension to our 3D tensor \"images\" (replace \"None\" in the line below)\n",
    "print(images.shape)\n",
    "images_4d = np.expand_dims(images, -1)\n",
    "images_4d = images[:, :, :, np.newaxis]\n",
    "print(images_4d.shape)\n",
    "assert np.array_equal(images_4d.shape, (10, 3, 3, 1))"
   ]
  },
  {
   "cell_type": "markdown",
   "id": "175f3460",
   "metadata": {},
   "source": [
    "Done :)"
   ]
  },
  {
   "cell_type": "code",
   "execution_count": null,
   "id": "57617f38",
   "metadata": {},
   "outputs": [],
   "source": []
  }
 ],
 "metadata": {
  "kernelspec": {
   "display_name": "Python 3",
   "language": "python",
   "name": "python3"
  },
  "language_info": {
   "codemirror_mode": {
    "name": "ipython",
    "version": 3
   },
   "file_extension": ".py",
   "mimetype": "text/x-python",
   "name": "python",
   "nbconvert_exporter": "python",
   "pygments_lexer": "ipython3",
   "version": "3.7.13"
  }
 },
 "nbformat": 4,
 "nbformat_minor": 5
}
